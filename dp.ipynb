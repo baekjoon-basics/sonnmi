{
 "cells": [
  {
   "cell_type": "code",
   "execution_count": null,
   "metadata": {},
   "outputs": [],
   "source": [
    "# 1로 만들기\n",
    "n = int(input())\n",
    "d = [0]*(n+1)\n",
    "d[1] = 0\n",
    "for i in range(2, n+1):\n",
    "    d[i] = d[i-1] + 1\n",
    "    if i%2 == 0 and d[i] > d[i//2] + 1:\n",
    "        d[i] = d[i//2] + 1\n",
    "    if i%3 == 0 and d[i] > d[i//3] + 1:\n",
    "        d[i] = d[i//3] + 1\n",
    "print(d[n])"
   ]
  },
  {
   "cell_type": "code",
   "execution_count": null,
   "metadata": {},
   "outputs": [],
   "source": [
    "# 2×n 타일링\n",
    "x"
   ]
  },
  {
   "cell_type": "code",
   "execution_count": null,
   "metadata": {},
   "outputs": [],
   "source": [
    "# 2×n 타일링 2\n",
    "x"
   ]
  },
  {
   "cell_type": "code",
   "execution_count": null,
   "metadata": {},
   "outputs": [],
   "source": [
    "# 1,2,3 더하기\n",
    "def go(n):\n",
    "    if n == 0:\n",
    "        return 1\n",
    "    if dn[n] > 0:\n",
    "        return dn[n]\n",
    "    if n-1 >= 0:\n",
    "        dn[n] = go(n-1)\n",
    "    if n-2 >= 0:\n",
    "        dn[n] += go(n-2)\n",
    "    if n-3 >= 0:\n",
    "        dn[n] += go(n-3)\n",
    "    return dn[n]\n",
    "\n",
    "T = int (input())\n",
    "dn = [0] * 11\n",
    "while T > 0:\n",
    "    N = int(input())\n",
    "    print(go(N))\n",
    "    T -= 1"
   ]
  }
 ],
 "metadata": {
  "kernelspec": {
   "display_name": "Python 3.11.2 64-bit",
   "language": "python",
   "name": "python3"
  },
  "language_info": {
   "name": "python",
   "version": "3.11.2"
  },
  "orig_nbformat": 4,
  "vscode": {
   "interpreter": {
    "hash": "1a1af0ee75eeea9e2e1ee996c87e7a2b11a0bebd85af04bb136d915cefc0abce"
   }
  }
 },
 "nbformat": 4,
 "nbformat_minor": 2
}
