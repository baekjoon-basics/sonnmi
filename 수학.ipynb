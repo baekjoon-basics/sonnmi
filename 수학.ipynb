{
 "cells": [
  {
   "cell_type": "code",
   "execution_count": null,
   "metadata": {},
   "outputs": [],
   "source": [
    "# GCD 합\n",
    "def gcd(x, y):\n",
    "    if y == 0:\n",
    "        return x\n",
    "    else:\n",
    "        return gcd(y, x%y)\n",
    "        \n",
    "t = int(input())\n",
    "for _ in range(t):\n",
    "    a = list(map(int, input().split()))\n",
    "    n = a[0]\n",
    "    a = a[1:]\n",
    "    ans = 0\n",
    "    for i in range(0, n-1):\n",
    "        for j in range(i+1, n):\n",
    "            ans += gcd(a[i], a[j])\n",
    "    print(ans)"
   ]
  },
  {
   "cell_type": "code",
   "execution_count": null,
   "metadata": {},
   "outputs": [],
   "source": [
    "# 숨바꼭질 6\n",
    "def gcd(a, b):\n",
    "    while b != 0:\n",
    "        r = a % b\n",
    "        a = b\n",
    "        b = r\n",
    "    return a\n",
    "\n",
    "\n",
    "N, S = map(int, input().split())\n",
    "locations = list(map(int, input().split()))\n",
    "if N > 1:\n",
    "    GCD = gcd(abs(S-locations[0]), abs(S-locations[1]))\n",
    "    for i in range(2, N):\n",
    "        GCD = gcd(GCD, abs(S-locations[i]))\n",
    "else:\n",
    "    GCD = abs(S-locations[0])\n",
    "print(GCD)"
   ]
  },
  {
   "cell_type": "code",
   "execution_count": null,
   "metadata": {},
   "outputs": [],
   "source": [
    "# 2진수 8진수\n",
    "import math\n",
    "\n",
    "line = input()\n",
    "LEN = len(line)\n",
    "arr = []\n",
    "if LEN % 3 != 0:\n",
    "    arr += [line[0:LEN%3]]\n",
    "arr += [line[i:i+3] for i in range(LEN % 3, LEN, 3)]\n",
    "cnt = 0\n",
    "num_8 = ''\n",
    "for num_2 in arr:\n",
    "    digit = 0\n",
    "    cnt = 0\n",
    "    for d in reversed(num_2):\n",
    "        digit += int(d) * int(math.pow(2, cnt))\n",
    "        cnt += 1\n",
    "    num_8 += str(digit)\n",
    "print(int(num_8))"
   ]
  },
  {
   "cell_type": "code",
   "execution_count": null,
   "metadata": {},
   "outputs": [],
   "source": [
    "# -2진수\n",
    "x"
   ]
  },
  {
   "cell_type": "code",
   "execution_count": null,
   "metadata": {},
   "outputs": [],
   "source": [
    "# 골드바흐 파티션\n",
    "시간초과\n",
    "n = int(input())\n",
    "prime = []\n",
    "t = [1]*(1000000+1)\n",
    "t[0] = t[1] = 0\n",
    "for i in range(2, len(t)):\n",
    "    if t[i] != 0:\n",
    "        prime.append(i)\n",
    "        j = i + i\n",
    "        while j < len(t):\n",
    "            t[j] = 0\n",
    "            j += i\n",
    "while n != 0:\n",
    "    found = False\n",
    "    for prime_num in prime:\n",
    "        if n-prime_num >= 0:\n",
    "            if t[n-prime_num] == 1:\n",
    "                found = True\n",
    "                print(str(n) + \" = \" + str(prime_num) + \" + \" + str(n-prime_num))\n",
    "                break\n",
    "        else:\n",
    "            break\n",
    "    if not found:\n",
    "        print(\"Goldbach's conjecture is wrong.\")\n",
    "    n = int(input())"
   ]
  }
 ],
 "metadata": {
  "language_info": {
   "name": "python"
  },
  "orig_nbformat": 4
 },
 "nbformat": 4,
 "nbformat_minor": 2
}
